{
 "cells": [
  {
   "cell_type": "code",
   "execution_count": 1,
   "id": "fa812313",
   "metadata": {},
   "outputs": [],
   "source": [
    "# Import the dependencies.\n",
    "import pandas as pd\n",
    "import matplotlib.pyplot as plt\n",
    "import numpy as np"
   ]
  },
  {
   "cell_type": "code",
   "execution_count": 2,
   "id": "ef153d75",
   "metadata": {},
   "outputs": [],
   "source": [
    "# Create a practice set of random latitude and longitude combinations.\n",
    "x = [25.12903645, 25.92017388, 26.62509167, -59.98969384, 37.30571269]\n",
    "y = [-67.59741259, 11.09532135, 74.84233102, -76.89176677, -61.13376282]\n",
    "coordinates = zip(x, y)"
   ]
  },
  {
   "cell_type": "code",
   "execution_count": 3,
   "id": "515466bd",
   "metadata": {},
   "outputs": [
    {
     "name": "stdout",
     "output_type": "stream",
     "text": [
      "25.12903645 -67.59741259\n",
      "25.92017388 11.09532135\n",
      "26.62509167 74.84233102\n",
      "-59.98969384 -76.89176677\n",
      "37.30571269 -61.13376282\n"
     ]
    }
   ],
   "source": [
    "# Use the tuple() function to display the latitudes and longitudes combinations.\n",
    "for coordinate in coordinates:\n",
    "    print(coordinate[0], coordinate[1])"
   ]
  },
  {
   "cell_type": "code",
   "execution_count": 4,
   "id": "47330dad",
   "metadata": {},
   "outputs": [],
   "source": [
    "# Use the citipy module to determine city based on latitude and longitude.\n",
    "from citipy import citipy"
   ]
  },
  {
   "cell_type": "code",
   "execution_count": 5,
   "id": "8bbea810",
   "metadata": {},
   "outputs": [],
   "source": [
    "# Use the tuple() function to display the latitude and longitude combinations.\n",
    "for coordinate in coordinates:\n",
    "    print(citipy.nearest_city(coordinate[0],coordinate[1]).city_name,\n",
    "          citipy.nearest_city(coordinate[0],coordinate[1]).country_code)"
   ]
  },
  {
   "cell_type": "code",
   "execution_count": 6,
   "id": "a7a94166",
   "metadata": {},
   "outputs": [],
   "source": [
    "# Import the requests library.\n",
    "import requests\n",
    "\n",
    "# Import the API key.\n",
    "from config import weather_api_key"
   ]
  },
  {
   "cell_type": "code",
   "execution_count": 7,
   "id": "e9ad3804",
   "metadata": {
    "scrolled": true
   },
   "outputs": [
    {
     "name": "stdout",
     "output_type": "stream",
     "text": [
      "http://api.openweathermap.org/data/2.5/weather?units=Imperial&APPID=dc4fb98f43cc0a6ce9f30cbd72ac49ea\n"
     ]
    }
   ],
   "source": [
    "# Starting URL for Weather Map API Call.\n",
    "url = \"http://api.openweathermap.org/data/2.5/weather?units=Imperial&APPID=\" + weather_api_key\n",
    "print(url)"
   ]
  },
  {
   "cell_type": "code",
   "execution_count": 8,
   "id": "26992780",
   "metadata": {},
   "outputs": [
    {
     "name": "stdout",
     "output_type": "stream",
     "text": [
      "http://api.openweathermap.org/data/2.5/weather?units=Imperial&APPID=dc4fb98f43cc0a6ce9f30cbd72ac49ea&q=Boston\n"
     ]
    }
   ],
   "source": [
    "# Create an endpoint URL for a city.\n",
    "city_url = url + \"&q=\" + \"Boston\"\n",
    "print(city_url)"
   ]
  },
  {
   "cell_type": "code",
   "execution_count": 9,
   "id": "04630b15",
   "metadata": {},
   "outputs": [
    {
     "data": {
      "text/plain": [
       "<Response [200]>"
      ]
     },
     "execution_count": 9,
     "metadata": {},
     "output_type": "execute_result"
    }
   ],
   "source": [
    "# Make a 'Get' request for the city weather.\n",
    "city_weather = requests.get(city_url)\n",
    "city_weather"
   ]
  },
  {
   "cell_type": "code",
   "execution_count": 10,
   "id": "4694b39f",
   "metadata": {},
   "outputs": [
    {
     "data": {
      "text/plain": [
       "<Response [404]>"
      ]
     },
     "execution_count": 10,
     "metadata": {},
     "output_type": "execute_result"
    }
   ],
   "source": [
    "# Create an endpoint URL for a city purpose error to get 404.\n",
    "city_url = url + \"&q=\" + \"Bston\"\n",
    "city_weather = requests.get(city_url)\n",
    "city_weather"
   ]
  },
  {
   "cell_type": "code",
   "execution_count": 11,
   "id": "51fdd3f3",
   "metadata": {},
   "outputs": [
    {
     "data": {
      "text/plain": [
       "<Response [200]>"
      ]
     },
     "execution_count": 11,
     "metadata": {},
     "output_type": "execute_result"
    }
   ],
   "source": [
    "# Create an endpoint URL for a city. Correct 200 output\n",
    "city_url = url + \"&q=\" + \"Boston\"\n",
    "city_weather = requests.get(city_url)\n",
    "city_weather"
   ]
  },
  {
   "cell_type": "code",
   "execution_count": 12,
   "id": "cd51c798",
   "metadata": {},
   "outputs": [
    {
     "data": {
      "text/plain": [
       "'{\"coord\":{\"lon\":-71.0598,\"lat\":42.3584},\"weather\":[{\"id\":804,\"main\":\"Clouds\",\"description\":\"overcast clouds\",\"icon\":\"04d\"}],\"base\":\"stations\",\"main\":{\"temp\":35.15,\"feels_like\":35.15,\"temp_min\":32.14,\"temp_max\":37.08,\"pressure\":1018,\"humidity\":53},\"visibility\":10000,\"wind\":{\"speed\":1.99,\"deg\":35,\"gust\":5.99},\"clouds\":{\"all\":100},\"dt\":1643399643,\"sys\":{\"type\":2,\"id\":2013408,\"country\":\"US\",\"sunrise\":1643371304,\"sunset\":1643406746},\"timezone\":-18000,\"id\":4930956,\"name\":\"Boston\",\"cod\":200}'"
      ]
     },
     "execution_count": 12,
     "metadata": {},
     "output_type": "execute_result"
    }
   ],
   "source": [
    "# Get the text of the 'Get' request.\n",
    "city_weather.text"
   ]
  },
  {
   "cell_type": "code",
   "execution_count": 13,
   "id": "58a6d1ab",
   "metadata": {},
   "outputs": [
    {
     "data": {
      "text/plain": [
       "{'coord': {'lon': -71.0598, 'lat': 42.3584},\n",
       " 'weather': [{'id': 804,\n",
       "   'main': 'Clouds',\n",
       "   'description': 'overcast clouds',\n",
       "   'icon': '04d'}],\n",
       " 'base': 'stations',\n",
       " 'main': {'temp': 35.15,\n",
       "  'feels_like': 35.15,\n",
       "  'temp_min': 32.14,\n",
       "  'temp_max': 37.08,\n",
       "  'pressure': 1018,\n",
       "  'humidity': 53},\n",
       " 'visibility': 10000,\n",
       " 'wind': {'speed': 1.99, 'deg': 35, 'gust': 5.99},\n",
       " 'clouds': {'all': 100},\n",
       " 'dt': 1643399643,\n",
       " 'sys': {'type': 2,\n",
       "  'id': 2013408,\n",
       "  'country': 'US',\n",
       "  'sunrise': 1643371304,\n",
       "  'sunset': 1643406746},\n",
       " 'timezone': -18000,\n",
       " 'id': 4930956,\n",
       " 'name': 'Boston',\n",
       " 'cod': 200}"
      ]
     },
     "execution_count": 13,
     "metadata": {},
     "output_type": "execute_result"
    }
   ],
   "source": [
    "# Get the JSON text of the 'Get' request.\n",
    "city_weather.json()"
   ]
  },
  {
   "cell_type": "code",
   "execution_count": 14,
   "id": "6fa92ab6",
   "metadata": {},
   "outputs": [
    {
     "data": {
      "text/plain": [
       "{'coord': {'lon': -71.0598, 'lat': 42.3584},\n",
       " 'weather': [{'id': 804,\n",
       "   'main': 'Clouds',\n",
       "   'description': 'overcast clouds',\n",
       "   'icon': '04d'}],\n",
       " 'base': 'stations',\n",
       " 'main': {'temp': 35.15,\n",
       "  'feels_like': 35.15,\n",
       "  'temp_min': 32.14,\n",
       "  'temp_max': 37.08,\n",
       "  'pressure': 1018,\n",
       "  'humidity': 53},\n",
       " 'visibility': 10000,\n",
       " 'wind': {'speed': 1.99, 'deg': 35, 'gust': 5.99},\n",
       " 'clouds': {'all': 100},\n",
       " 'dt': 1643399643,\n",
       " 'sys': {'type': 2,\n",
       "  'id': 2013408,\n",
       "  'country': 'US',\n",
       "  'sunrise': 1643371304,\n",
       "  'sunset': 1643406746},\n",
       " 'timezone': -18000,\n",
       " 'id': 4930956,\n",
       " 'name': 'Boston',\n",
       " 'cod': 200}"
      ]
     },
     "execution_count": 14,
     "metadata": {},
     "output_type": "execute_result"
    }
   ],
   "source": [
    "# Get the JSON data.\n",
    "boston_data = city_weather.json()\n",
    "boston_data"
   ]
  },
  {
   "cell_type": "code",
   "execution_count": 15,
   "id": "4c9813c9",
   "metadata": {},
   "outputs": [
    {
     "data": {
      "text/plain": [
       "{'coord': {'lon': -71.0598, 'lat': 42.3584},\n",
       " 'weather': [{'id': 804,\n",
       "   'main': 'Clouds',\n",
       "   'description': 'overcast clouds',\n",
       "   'icon': '04d'}],\n",
       " 'base': 'stations',\n",
       " 'main': {'temp': 35.15,\n",
       "  'feels_like': 35.15,\n",
       "  'temp_min': 32.14,\n",
       "  'temp_max': 37.08,\n",
       "  'pressure': 1018,\n",
       "  'humidity': 53},\n",
       " 'visibility': 10000,\n",
       " 'wind': {'speed': 1.99, 'deg': 35, 'gust': 5.99},\n",
       " 'clouds': {'all': 100},\n",
       " 'dt': 1643399643,\n",
       " 'sys': {'coord': {'lon': -71.0598, 'lat': 42.3584},\n",
       "  'weather': [{'id': 804,\n",
       "    'main': 'Clouds',\n",
       "    'description': 'overcast clouds',\n",
       "    'icon': '04d'}],\n",
       "  'base': 'stations',\n",
       "  'main': {'temp': 35.15,\n",
       "   'feels_like': 35.15,\n",
       "   'temp_min': 32.14,\n",
       "   'temp_max': 37.08,\n",
       "   'pressure': 1018,\n",
       "   'humidity': 53},\n",
       "  'visibility': 10000,\n",
       "  'wind': {'speed': 1.99, 'deg': 35, 'gust': 5.99},\n",
       "  'clouds': {'all': 100},\n",
       "  'dt': 1643399643,\n",
       "  'sys': {'type': 2,\n",
       "   'id': 2013408,\n",
       "   'country': 'US',\n",
       "   'sunrise': 1643371304,\n",
       "   'sunset': 1643406746},\n",
       "  'timezone': -18000,\n",
       "  'id': 4930956,\n",
       "  'name': 'Boston',\n",
       "  'cod': 200},\n",
       " 'timezone': -18000,\n",
       " 'id': 4930956,\n",
       " 'name': 'Boston',\n",
       " 'cod': 200}"
      ]
     },
     "execution_count": 15,
     "metadata": {},
     "output_type": "execute_result"
    }
   ],
   "source": [
    "# Using sys key\n",
    "boston_data[\"sys\"] = city_weather.json()\n",
    "\n",
    "boston_data"
   ]
  },
  {
   "cell_type": "code",
   "execution_count": 16,
   "id": "63eecd1d",
   "metadata": {},
   "outputs": [
    {
     "data": {
      "text/plain": [
       "{'coord': {'lon': -71.0598, 'lat': 42.3584},\n",
       " 'weather': [{'id': 804,\n",
       "   'main': 'Clouds',\n",
       "   'description': 'overcast clouds',\n",
       "   'icon': '04d'}],\n",
       " 'base': 'stations',\n",
       " 'main': {'temp': 35.15,\n",
       "  'feels_like': 35.15,\n",
       "  'temp_min': 32.14,\n",
       "  'temp_max': 37.08,\n",
       "  'pressure': 1018,\n",
       "  'humidity': 53},\n",
       " 'visibility': 10000,\n",
       " 'wind': {'speed': 1.99, 'deg': 35, 'gust': 5.99},\n",
       " 'clouds': {'all': 100},\n",
       " 'dt': 1643399643,\n",
       " 'sys': {'type': 2,\n",
       "  'id': 2013408,\n",
       "  'country': 'US',\n",
       "  'sunrise': 1643371304,\n",
       "  'sunset': 1643406746},\n",
       " 'timezone': -18000,\n",
       " 'id': 4930956,\n",
       " 'name': 'Boston',\n",
       " 'cod': 200}"
      ]
     },
     "execution_count": 16,
     "metadata": {},
     "output_type": "execute_result"
    }
   ],
   "source": [
    "# Get Country\n",
    "boston_data[\"sys\"][\"country\"] = city_weather.json()\n",
    "boston_data[\"sys\"][\"country\"] "
   ]
  },
  {
   "cell_type": "code",
   "execution_count": 39,
   "id": "580aacfb",
   "metadata": {},
   "outputs": [
    {
     "name": "stdout",
     "output_type": "stream",
     "text": [
      "42.3584 -71.0598 25.79 55 20 3\n"
     ]
    }
   ],
   "source": [
    "lat = boston_data[\"coord\"][\"lat\"]\n",
    "lng = boston_data[\"coord\"][\"lon\"]\n",
    "max_temp = boston_data[\"main\"][\"temp_max\"]\n",
    "humidity = boston_data[\"main\"][\"humidity\"]\n",
    "clouds = boston_data[\"clouds\"][\"all\"]\n",
    "wind = boston_data[\"wind\"][\"speed\"]\n",
    "print(lat, lng, max_temp, humidity, clouds, wind)"
   ]
  },
  {
   "cell_type": "code",
   "execution_count": 41,
   "id": "1946d9d8",
   "metadata": {},
   "outputs": [
    {
     "data": {
      "text/plain": [
       "'2022-01-28 00:17:10'"
      ]
     },
     "execution_count": 41,
     "metadata": {},
     "output_type": "execute_result"
    }
   ],
   "source": [
    "# Import the datetime module from the datetime library.\n",
    "from datetime import datetime\n",
    "# Get the date from the JSON file.\n",
    "date = boston_data[\"dt\"]\n",
    "# Convert the UTC date to a date format with year, month, day, hours, minutes, and seconds.\n",
    "#.strftime('%Y-%m-%d %H:%M:%S') converts time to correct output\n",
    "datetime.utcfromtimestamp(date).strftime('%Y-%m-%d %H:%M:%S')"
   ]
  },
  {
   "cell_type": "code",
   "execution_count": 18,
   "id": "eb2abff2",
   "metadata": {},
   "outputs": [
    {
     "data": {
      "text/plain": [
       "'01/28/22'"
      ]
     },
     "execution_count": 18,
     "metadata": {},
     "output_type": "execute_result"
    }
   ],
   "source": [
    "# Import the time module.\n",
    "import time\n",
    "# Get today's date in seconds.\n",
    "today = time.strftime(\"%x\")\n",
    "today"
   ]
  },
  {
   "cell_type": "code",
   "execution_count": null,
   "id": "d75fd184",
   "metadata": {},
   "outputs": [],
   "source": []
  }
 ],
 "metadata": {
  "kernelspec": {
   "display_name": "Python 3 (ipykernel)",
   "language": "python",
   "name": "python3"
  },
  "language_info": {
   "codemirror_mode": {
    "name": "ipython",
    "version": 3
   },
   "file_extension": ".py",
   "mimetype": "text/x-python",
   "name": "python",
   "nbconvert_exporter": "python",
   "pygments_lexer": "ipython3",
   "version": "3.7.11"
  }
 },
 "nbformat": 4,
 "nbformat_minor": 5
}
